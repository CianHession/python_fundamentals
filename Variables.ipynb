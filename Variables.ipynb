{
 "cells": [
  {
   "cell_type": "markdown",
   "id": "8c199d91",
   "metadata": {},
   "source": [
    "# Python Fundamentals\n",
    "***"
   ]
  },
  {
   "cell_type": "markdown",
   "id": "44bee18a",
   "metadata": {},
   "source": [
    "## Variables\n",
    "***\n",
    "All imperative programming languages have variables, often with types"
   ]
  },
  {
   "cell_type": "code",
   "execution_count": 1,
   "id": "bdfa092e",
   "metadata": {},
   "outputs": [],
   "source": [
    "# Boolean.\n",
    "b = True\n",
    "\n",
    "# Integer.\n",
    "i = 1\n",
    "\n",
    "# Float.\n",
    "f = 1.0\n",
    "\n",
    "# String.\n",
    "c = 'c'\n",
    "\n",
    "# String.\n",
    "s = \"Hello, world!\"\n",
    "\n",
    "# Quotes in strings.\n",
    "t = \"I can't believe it!\"\n",
    "\n",
    "# Quotes in strings.\n",
    "u = 'Cian says \"Hello\"'\n",
    "\n",
    "# Escaped quotes in strings.\n",
    "v = \"Cian says \\\"Hello\\\"\""
   ]
  },
  {
   "cell_type": "code",
   "execution_count": 2,
   "id": "ded1da41",
   "metadata": {},
   "outputs": [
    {
     "data": {
      "text/plain": [
       "1"
      ]
     },
     "execution_count": 2,
     "metadata": {},
     "output_type": "execute_result"
    }
   ],
   "source": [
    "i"
   ]
  },
  {
   "cell_type": "code",
   "execution_count": 3,
   "id": "a0626553",
   "metadata": {},
   "outputs": [
    {
     "data": {
      "text/plain": [
       "1.0"
      ]
     },
     "execution_count": 3,
     "metadata": {},
     "output_type": "execute_result"
    }
   ],
   "source": [
    "f"
   ]
  },
  {
   "cell_type": "code",
   "execution_count": 4,
   "id": "4acad87c",
   "metadata": {},
   "outputs": [
    {
     "data": {
      "text/plain": [
       "'c'"
      ]
     },
     "execution_count": 4,
     "metadata": {},
     "output_type": "execute_result"
    }
   ],
   "source": [
    "c"
   ]
  },
  {
   "cell_type": "code",
   "execution_count": 5,
   "id": "815c7561",
   "metadata": {},
   "outputs": [
    {
     "data": {
      "text/plain": [
       "'Hello, world!'"
      ]
     },
     "execution_count": 5,
     "metadata": {},
     "output_type": "execute_result"
    }
   ],
   "source": [
    "s"
   ]
  },
  {
   "cell_type": "code",
   "execution_count": 6,
   "id": "231f3717",
   "metadata": {},
   "outputs": [
    {
     "data": {
      "text/plain": [
       "int"
      ]
     },
     "execution_count": 6,
     "metadata": {},
     "output_type": "execute_result"
    }
   ],
   "source": [
    "type(i)"
   ]
  },
  {
   "cell_type": "code",
   "execution_count": 7,
   "id": "09f78823",
   "metadata": {},
   "outputs": [
    {
     "data": {
      "text/plain": [
       "str"
      ]
     },
     "execution_count": 7,
     "metadata": {},
     "output_type": "execute_result"
    }
   ],
   "source": [
    "type(c)"
   ]
  },
  {
   "cell_type": "code",
   "execution_count": 8,
   "id": "29b6e4d2",
   "metadata": {},
   "outputs": [
    {
     "data": {
      "text/plain": [
       "2"
      ]
     },
     "execution_count": 8,
     "metadata": {},
     "output_type": "execute_result"
    }
   ],
   "source": [
    "i + i"
   ]
  },
  {
   "cell_type": "code",
   "execution_count": 9,
   "id": "8db60e75",
   "metadata": {},
   "outputs": [
    {
     "data": {
      "text/plain": [
       "2.0"
      ]
     },
     "execution_count": 9,
     "metadata": {},
     "output_type": "execute_result"
    }
   ],
   "source": [
    "f + f"
   ]
  },
  {
   "cell_type": "code",
   "execution_count": 10,
   "id": "21b70262",
   "metadata": {},
   "outputs": [
    {
     "data": {
      "text/plain": [
       "2.0"
      ]
     },
     "execution_count": 10,
     "metadata": {},
     "output_type": "execute_result"
    }
   ],
   "source": [
    "i + f"
   ]
  },
  {
   "cell_type": "code",
   "execution_count": 11,
   "id": "0b1a672b",
   "metadata": {},
   "outputs": [
    {
     "data": {
      "text/plain": [
       "'Hello, world!'"
      ]
     },
     "execution_count": 11,
     "metadata": {},
     "output_type": "execute_result"
    }
   ],
   "source": [
    "s"
   ]
  },
  {
   "cell_type": "code",
   "execution_count": 12,
   "id": "a6c82d35",
   "metadata": {},
   "outputs": [
    {
     "data": {
      "text/plain": [
       "\"I can't believe it!\""
      ]
     },
     "execution_count": 12,
     "metadata": {},
     "output_type": "execute_result"
    }
   ],
   "source": [
    "t"
   ]
  },
  {
   "cell_type": "code",
   "execution_count": 13,
   "id": "5cdc1cdb",
   "metadata": {},
   "outputs": [
    {
     "data": {
      "text/plain": [
       "'Cian says \"Hello\"'"
      ]
     },
     "execution_count": 13,
     "metadata": {},
     "output_type": "execute_result"
    }
   ],
   "source": [
    "u"
   ]
  },
  {
   "cell_type": "markdown",
   "id": "0cff9b8c",
   "metadata": {},
   "source": [
    "## Conditionals\n",
    "***"
   ]
  },
  {
   "cell_type": "code",
   "execution_count": 1,
   "id": "53401984",
   "metadata": {},
   "outputs": [
    {
     "data": {
      "text/plain": [
       "True"
      ]
     },
     "execution_count": 1,
     "metadata": {},
     "output_type": "execute_result"
    }
   ],
   "source": [
    "True"
   ]
  },
  {
   "cell_type": "code",
   "execution_count": 2,
   "id": "6903dd01",
   "metadata": {},
   "outputs": [
    {
     "data": {
      "text/plain": [
       "False"
      ]
     },
     "execution_count": 2,
     "metadata": {},
     "output_type": "execute_result"
    }
   ],
   "source": [
    "False"
   ]
  },
  {
   "cell_type": "code",
   "execution_count": 3,
   "id": "84bc051b",
   "metadata": {},
   "outputs": [],
   "source": [
    "i = 15"
   ]
  },
  {
   "cell_type": "code",
   "execution_count": 6,
   "id": "cc873a9a",
   "metadata": {},
   "outputs": [
    {
     "name": "stdout",
     "output_type": "stream",
     "text": [
      "15 is odd\n"
     ]
    }
   ],
   "source": [
    "if i < 0:\n",
    "    print(i, \"is negative\")\n",
    "elif i & 2 == 0:\n",
    "    print(i, \" is even\")\n",
    "else:\n",
    "    print(i, \"is odd\")\n",
    "        "
   ]
  },
  {
   "cell_type": "code",
   "execution_count": 7,
   "id": "0b3690e8",
   "metadata": {},
   "outputs": [
    {
     "name": "stdout",
     "output_type": "stream",
     "text": [
      "15 is odd\n"
     ]
    }
   ],
   "source": [
    "if(i < 0):\n",
    "    print(i,\"is negative\")\n",
    "else:\n",
    "    if(i % 2 == 0):\n",
    "        print(i, \"is even\")\n",
    "    else:\n",
    "        print(i, \"is odd\")"
   ]
  },
  {
   "cell_type": "markdown",
   "id": "334ab610",
   "metadata": {},
   "source": [
    "***\n",
    "## Lists"
   ]
  },
  {
   "cell_type": "code",
   "execution_count": 8,
   "id": "cab1c82d",
   "metadata": {},
   "outputs": [],
   "source": [
    "r = [1,2,3]"
   ]
  },
  {
   "cell_type": "code",
   "execution_count": 9,
   "id": "b9ff681c",
   "metadata": {},
   "outputs": [
    {
     "name": "stdout",
     "output_type": "stream",
     "text": [
      "[1, 2, 3]\n"
     ]
    }
   ],
   "source": [
    "print(r)"
   ]
  },
  {
   "cell_type": "code",
   "execution_count": 10,
   "id": "254dfaae",
   "metadata": {},
   "outputs": [
    {
     "data": {
      "text/plain": [
       "3"
      ]
     },
     "execution_count": 10,
     "metadata": {},
     "output_type": "execute_result"
    }
   ],
   "source": [
    "r[2]"
   ]
  },
  {
   "cell_type": "code",
   "execution_count": 33,
   "id": "332d0932",
   "metadata": {},
   "outputs": [
    {
     "data": {
      "text/plain": [
       "[0, 1, 4, 9, 16, 25, 36, 49, 64, 81]"
      ]
     },
     "execution_count": 33,
     "metadata": {},
     "output_type": "execute_result"
    }
   ],
   "source": [
    "[i*i for i in range(10)]"
   ]
  },
  {
   "cell_type": "markdown",
   "id": "107122e1",
   "metadata": {},
   "source": [
    "***\n",
    "## Iteration\n",
    "***"
   ]
  },
  {
   "cell_type": "code",
   "execution_count": 14,
   "id": "604fcfb5",
   "metadata": {},
   "outputs": [
    {
     "name": "stdout",
     "output_type": "stream",
     "text": [
      "1\n",
      "1\n",
      "2\n",
      "4\n",
      "3\n",
      "9\n",
      "that's all folks!\n"
     ]
    }
   ],
   "source": [
    "for item in r:\n",
    "    print(item)\n",
    "    print(item*item)\n",
    "    \n",
    "print(\"that's all folks!\")"
   ]
  },
  {
   "cell_type": "code",
   "execution_count": 16,
   "id": "8e32d791",
   "metadata": {},
   "outputs": [
    {
     "name": "stdout",
     "output_type": "stream",
     "text": [
      "10\n",
      "9\n",
      "8\n",
      "7\n",
      "6\n",
      "5\n",
      "4\n",
      "3\n",
      "2\n",
      "1\n"
     ]
    }
   ],
   "source": [
    "i = 10 \n",
    "while i > 0:\n",
    "    print(i)\n",
    "    i = i - 1"
   ]
  },
  {
   "cell_type": "code",
   "execution_count": 18,
   "id": "ab2379e5",
   "metadata": {},
   "outputs": [
    {
     "data": {
      "text/plain": [
       "[0, 1, 2, 3, 4, 5, 6, 7, 8, 9]"
      ]
     },
     "execution_count": 18,
     "metadata": {},
     "output_type": "execute_result"
    }
   ],
   "source": [
    "list(range(10))"
   ]
  },
  {
   "cell_type": "code",
   "execution_count": 19,
   "id": "39fe1e7c",
   "metadata": {},
   "outputs": [
    {
     "data": {
      "text/plain": [
       "[2, 5, 8]"
      ]
     },
     "execution_count": 19,
     "metadata": {},
     "output_type": "execute_result"
    }
   ],
   "source": [
    "list(range(2,10,3))"
   ]
  },
  {
   "cell_type": "code",
   "execution_count": 20,
   "id": "ae036e02",
   "metadata": {},
   "outputs": [
    {
     "name": "stdout",
     "output_type": "stream",
     "text": [
      "10\n",
      "9\n",
      "8\n",
      "7\n",
      "6\n",
      "5\n",
      "4\n",
      "3\n",
      "2\n",
      "1\n"
     ]
    }
   ],
   "source": [
    "for i in range(10,0,-1):\n",
    "    print(i)"
   ]
  },
  {
   "cell_type": "markdown",
   "id": "f34ce9f0",
   "metadata": {},
   "source": [
    "***\n",
    "## Functions"
   ]
  },
  {
   "cell_type": "code",
   "execution_count": 22,
   "id": "e500be49",
   "metadata": {},
   "outputs": [],
   "source": [
    "def square(i):\n",
    "    return i * i"
   ]
  },
  {
   "cell_type": "code",
   "execution_count": 23,
   "id": "c8412608",
   "metadata": {},
   "outputs": [
    {
     "data": {
      "text/plain": [
       "81"
      ]
     },
     "execution_count": 23,
     "metadata": {},
     "output_type": "execute_result"
    }
   ],
   "source": [
    "square(9)"
   ]
  },
  {
   "cell_type": "code",
   "execution_count": 28,
   "id": "4b1834e1",
   "metadata": {},
   "outputs": [],
   "source": [
    "def power(i, j=2):\n",
    "    result = 1\n",
    "    for k in range(j):\n",
    "        result = result * i\n",
    "    return result\n",
    "        "
   ]
  },
  {
   "cell_type": "code",
   "execution_count": 32,
   "id": "cd61dce7",
   "metadata": {},
   "outputs": [
    {
     "data": {
      "text/plain": [
       "81"
      ]
     },
     "execution_count": 32,
     "metadata": {},
     "output_type": "execute_result"
    }
   ],
   "source": [
    "power(9)"
   ]
  },
  {
   "cell_type": "code",
   "execution_count": 30,
   "id": "9661f65a",
   "metadata": {},
   "outputs": [
    {
     "data": {
      "text/plain": [
       "729"
      ]
     },
     "execution_count": 30,
     "metadata": {},
     "output_type": "execute_result"
    }
   ],
   "source": [
    "power(9,3)"
   ]
  },
  {
   "cell_type": "code",
   "execution_count": 31,
   "id": "6cdc769c",
   "metadata": {},
   "outputs": [
    {
     "data": {
      "text/plain": [
       "729"
      ]
     },
     "execution_count": 31,
     "metadata": {},
     "output_type": "execute_result"
    }
   ],
   "source": [
    "9*9*9"
   ]
  }
 ],
 "metadata": {
  "kernelspec": {
   "display_name": "Python 3 (ipykernel)",
   "language": "python",
   "name": "python3"
  },
  "language_info": {
   "codemirror_mode": {
    "name": "ipython",
    "version": 3
   },
   "file_extension": ".py",
   "mimetype": "text/x-python",
   "name": "python",
   "nbconvert_exporter": "python",
   "pygments_lexer": "ipython3",
   "version": "3.9.12"
  }
 },
 "nbformat": 4,
 "nbformat_minor": 5
}
